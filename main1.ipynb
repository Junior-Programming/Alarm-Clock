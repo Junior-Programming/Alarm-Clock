{
 "cells": [
  {
   "cell_type": "code",
   "execution_count": 1,
   "metadata": {},
   "outputs": [
    {
     "name": "stdout",
     "output_type": "stream",
     "text": [
      "Playing. . .\n"
     ]
    }
   ],
   "source": [
    "import datetime\n",
    "from playsound import playsound\n",
    "\n",
    "alarmHour = int(input(\"Enter Hour: \"))\n",
    "alarmMinutes = int(input(\"Enter Minutes: \"))\n",
    "alarmAm = input(\"am / pm: \")\n",
    "\n",
    "if alarmAm == \"pm\":\n",
    "    alarmHour += 12\n",
    "\n",
    "while True:\n",
    "    if alarmHour == datetime.datetime.now().hour and alarmMinutes == datetime.datetime.now().minute:\n",
    "        print(\"Playing. . .\")\n",
    "        playsound(\n",
    "            \"D:/Materi pembelajaran individu/Programing/Project Python/7. Alarm Clock/alarm.mp3\")\n",
    "        break\n"
   ]
  }
 ],
 "metadata": {
  "kernelspec": {
   "display_name": "Python 3",
   "language": "python",
   "name": "python3"
  },
  "language_info": {
   "codemirror_mode": {
    "name": "ipython",
    "version": 3
   },
   "file_extension": ".py",
   "mimetype": "text/x-python",
   "name": "python",
   "nbconvert_exporter": "python",
   "pygments_lexer": "ipython3",
   "version": "3.10.5"
  },
  "orig_nbformat": 4,
  "vscode": {
   "interpreter": {
    "hash": "afb734500600fd355917ca529030176ea0ca205570884b88f2f6f7d791fd3fbe"
   }
  }
 },
 "nbformat": 4,
 "nbformat_minor": 2
}
